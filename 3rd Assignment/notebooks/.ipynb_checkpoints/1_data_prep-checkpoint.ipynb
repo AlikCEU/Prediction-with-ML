{
 "cells": [
  {
   "cell_type": "code",
   "execution_count": null,
   "id": "18417f1b-c23d-456c-bc9a-5c88f39233f7",
   "metadata": {},
   "outputs": [],
   "source": [
    "# 1_data_prep.py\n",
    "\n",
    "import pandas as pd\n",
    "import numpy as np\n",
    "import os\n",
    "from sklearn.model_selection import train_test_split\n",
    "\n",
    "# Config\n",
    "DATA_PATH = \"data/bisnode_firms_clean.csv\"\n",
    "SEED = 42\n",
    "\n",
    "# Load data\n",
    "print(\"Loading data...\")\n",
    "data = pd.read_csv(DATA_PATH)\n",
    "print(f\"Loaded dataset with shape: {data.shape}\")\n",
    "\n",
    "# Drop rows with missing target\n",
    "data = data.dropna(subset=[\"fast_growth\"])\n",
    "\n",
    "# Target\n",
    "data[\"fast_growth\"] = data[\"fast_growth\"].astype(int)\n",
    "\n",
    "# Feature groups\n",
    "numerical_features = [\n",
    "    \"sales_mil_log\", \"sales_mil_log_sq\", \"age\", \"age2\", \n",
    "    \"growth_1y\", \"growth_1y_sq\", \"ceo_age\", \"foreign\"\n",
    "]\n",
    "categorical_features = [\"ind2_cat\", \"urban_m\", \"gender_m\", \"m_region_loc\"]\n",
    "binary_features = [\"new\", \"ceo_young\", \"foreign_management\"]\n",
    "\n",
    "# Select and prepare features\n",
    "X = data[numerical_features + categorical_features + binary_features].copy()\n",
    "X = pd.get_dummies(X, columns=categorical_features, drop_first=True)\n",
    "X = X.fillna(X.mean())\n",
    "y = data[\"fast_growth\"]\n",
    "\n",
    "# Train-test split\n",
    "X_train, X_test, y_train, y_test = train_test_split(\n",
    "    X, y, test_size=0.2, random_state=SEED, stratify=y\n",
    ")\n",
    "\n",
    "# Save splits for reuse\n",
    "X_train.to_csv(\"data/X_train.csv\", index=False)\n",
    "X_test.to_csv(\"data/X_test.csv\", index=False)\n",
    "y_train.to_csv(\"data/y_train.csv\", index=False)\n",
    "y_test.to_csv(\"data/y_test.csv\", index=False)\n",
    "\n",
    "print(\"Data preprocessing complete. Splits saved to data/\")"
   ]
  }
 ],
 "metadata": {
  "kernelspec": {
   "display_name": "Python 3 (ipykernel)",
   "language": "python",
   "name": "python3"
  },
  "language_info": {
   "codemirror_mode": {
    "name": "ipython",
    "version": 3
   },
   "file_extension": ".py",
   "mimetype": "text/x-python",
   "name": "python",
   "nbconvert_exporter": "python",
   "pygments_lexer": "ipython3",
   "version": "3.12.7"
  }
 },
 "nbformat": 4,
 "nbformat_minor": 5
}
