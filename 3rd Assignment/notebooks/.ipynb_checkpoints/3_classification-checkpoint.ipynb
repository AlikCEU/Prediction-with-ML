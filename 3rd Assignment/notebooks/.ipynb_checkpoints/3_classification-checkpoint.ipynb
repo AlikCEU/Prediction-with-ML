{
 "cells": [
  {
   "cell_type": "code",
   "execution_count": null,
   "id": "81b1d32a-16b8-4669-a1b4-1f73f5779882",
   "metadata": {},
   "outputs": [],
   "source": [
    "# 3_classification.py\n",
    "\n",
    "import pandas as pd\n",
    "import numpy as np\n",
    "import joblib\n",
    "from utils.helpers import evaluate_basic_metrics, expected_loss, find_best_threshold, plot_confusion, plot_roc_curves, plot_precision_recall_curves\n",
    "from sklearn.metrics import confusion_matrix\n",
    "\n",
    "# Load test data\n",
    "X_test = pd.read_csv(\"data/X_test.csv\")\n",
    "y_test = pd.read_csv(\"data/y_test.csv\").squeeze()\n",
    "\n",
    "# Load models\n",
    "models = {\n",
    "    \"Logistic Regression\": joblib.load(\"outputs/models/logistic_regression.pkl\"),\n",
    "    \"Random Forest\": joblib.load(\"outputs/models/random_forest.pkl\"),\n",
    "    \"Gradient Boosting\": joblib.load(\"outputs/models/gradient_boosting.pkl\")\n",
    "}\n",
    "\n",
    "fp_cost = 1\n",
    "fn_cost = 5\n",
    "results = {}\n",
    "\n",
    "# Evaluate and find optimal thresholds\n",
    "for name, model in models.items():\n",
    "    y_proba = model.predict_proba(X_test)[:, 1]\n",
    "    best_thresh, min_loss = find_best_threshold(model, X_test, y_test, fp_cost, fn_cost)\n",
    "    y_pred = (y_proba >= best_thresh).astype(int)\n",
    "\n",
    "    metrics = evaluate_basic_metrics(y_test, y_pred, y_proba)\n",
    "    metrics.update({\n",
    "        \"threshold\": best_thresh,\n",
    "        \"expected_loss\": min_loss,\n",
    "        \"y_true\": y_test,\n",
    "        \"y_pred\": y_pred,\n",
    "        \"y_proba\": y_proba\n",
    "    })\n",
    "    results[name] = metrics\n",
    "\n",
    "    print(f\"\\n{name} (Threshold = {best_thresh:.4f}):\")\n",
    "    for k, v in metrics.items():\n",
    "        if isinstance(v, float) and k not in [\"threshold\"]:\n",
    "            print(f\"{k.capitalize():15}: {v:.4f}\")\n",
    "    print(f\"Expected Loss        : ${min_loss}\")\n",
    "\n",
    "    plot_confusion(y_test, y_pred, [\"Normal Growth\", \"Fast Growth\"], f\"Confusion Matrix - {name}\")\n",
    "\n",
    "# Identify best model\n",
    "best_model = min(results.items(), key=lambda x: x[1]['expected_loss'])[0]\n",
    "print(f\"\\nBest model based on expected loss: {best_model}\")\n",
    "\n",
    "# Plot ROC and PR curves\n",
    "plot_roc_curves(results)\n",
    "plot_precision_recall_curves(results)"
   ]
  }
 ],
 "metadata": {
  "kernelspec": {
   "display_name": "Python 3 (ipykernel)",
   "language": "python",
   "name": "python3"
  },
  "language_info": {
   "codemirror_mode": {
    "name": "ipython",
    "version": 3
   },
   "file_extension": ".py",
   "mimetype": "text/x-python",
   "name": "python",
   "nbconvert_exporter": "python",
   "pygments_lexer": "ipython3",
   "version": "3.12.7"
  }
 },
 "nbformat": 4,
 "nbformat_minor": 5
}
